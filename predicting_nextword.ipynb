{
  "nbformat": 4,
  "nbformat_minor": 0,
  "metadata": {
    "colab": {
      "provenance": [],
      "toc_visible": true,
      "authorship_tag": "ABX9TyMVGhxNnvojoUOT3xRYf4lX",
      "include_colab_link": true
    },
    "kernelspec": {
      "name": "python3",
      "display_name": "Python 3"
    },
    "language_info": {
      "name": "python"
    }
  },
  "cells": [
    {
      "cell_type": "markdown",
      "metadata": {
        "id": "view-in-github",
        "colab_type": "text"
      },
      "source": [
        "<a href=\"https://colab.research.google.com/github/VyshnaviAllam06/-simple-html-form-/blob/main/predicting_nextword.ipynb\" target=\"_parent\"><img src=\"https://colab.research.google.com/assets/colab-badge.svg\" alt=\"Open In Colab\"/></a>"
      ]
    },
    {
      "cell_type": "code",
      "execution_count": 1,
      "metadata": {
        "id": "8ewiOfcg_roD"
      },
      "outputs": [],
      "source": [
        "import numpy as np\n",
        "import tensorflow as tf\n",
        "from tensorflow.keras.preprocessing.text import Tokenizer\n",
        "from tensorflow.keras.preprocessing.sequence import pad_sequences\n",
        "from tensorflow.keras.models import Sequential\n",
        "from tensorflow.keras.layers import Embedding, LSTM, Dense\n"
      ]
    },
    {
      "cell_type": "code",
      "source": [
        "with open('/content/SherLock.txt', 'r', encoding='utf-8') as file:\n",
        "    text = file.read()\n",
        "\n"
      ],
      "metadata": {
        "id": "ABSbGGWoDU7m"
      },
      "execution_count": 2,
      "outputs": []
    },
    {
      "cell_type": "code",
      "source": [
        "tokenizer = Tokenizer()\n",
        "tokenizer.fit_on_texts([text])\n",
        "total_words = len(tokenizer.word_index) + 1\n"
      ],
      "metadata": {
        "id": "uOOlWF_ODc5u"
      },
      "execution_count": 3,
      "outputs": []
    },
    {
      "cell_type": "code",
      "source": [
        "input_sequences = []\n",
        "for line in text.split('\\n'):\n",
        "    token_list = tokenizer.texts_to_sequences([line])[0]\n",
        "    for i in range(1, len(token_list)):\n",
        "        n_gram_sequence = token_list[:i+1]\n",
        "        input_sequences.append(n_gram_sequence)\n"
      ],
      "metadata": {
        "id": "vj_CHG2aDhE-"
      },
      "execution_count": 4,
      "outputs": []
    },
    {
      "cell_type": "code",
      "source": [
        "max_sequence_len = max([len(seq) for seq in input_sequences])\n",
        "input_sequences = np.array(pad_sequences(input_sequences, maxlen=max_sequence_len, padding='pre'))\n"
      ],
      "metadata": {
        "id": "bSEcLQeHDlVA"
      },
      "execution_count": 5,
      "outputs": []
    },
    {
      "cell_type": "code",
      "source": [
        "X = input_sequences[:, :-1]\n",
        "y = input_sequences[:, -1]\n",
        "\n"
      ],
      "metadata": {
        "id": "1odY8S_DDqBe"
      },
      "execution_count": 6,
      "outputs": []
    },
    {
      "cell_type": "code",
      "source": [
        "y = np.array(tf.keras.utils.to_categorical(y, num_classes=total_words))"
      ],
      "metadata": {
        "id": "XH3UYUtTDtju"
      },
      "execution_count": 7,
      "outputs": []
    },
    {
      "cell_type": "code",
      "source": [
        "model = Sequential()\n",
        "model.add(Embedding(total_words, 100, input_length=max_sequence_len-1))\n",
        "model.add(LSTM(150))\n",
        "model.add(Dense(total_words, activation='softmax'))\n",
        "print(model.summary())\n"
      ],
      "metadata": {
        "colab": {
          "base_uri": "https://localhost:8080/"
        },
        "id": "rz-6vxBjDx9-",
        "outputId": "cb7e603c-ef7a-4b97-81a3-fba9ddb28187"
      },
      "execution_count": 8,
      "outputs": [
        {
          "output_type": "stream",
          "name": "stdout",
          "text": [
            "Model: \"sequential\"\n",
            "_________________________________________________________________\n",
            " Layer (type)                Output Shape              Param #   \n",
            "=================================================================\n",
            " embedding (Embedding)       (None, 16, 100)           846400    \n",
            "                                                                 \n",
            " lstm (LSTM)                 (None, 150)               150600    \n",
            "                                                                 \n",
            " dense (Dense)               (None, 8464)              1278064   \n",
            "                                                                 \n",
            "=================================================================\n",
            "Total params: 2,275,064\n",
            "Trainable params: 2,275,064\n",
            "Non-trainable params: 0\n",
            "_________________________________________________________________\n",
            "None\n"
          ]
        }
      ]
    },
    {
      "cell_type": "code",
      "source": [
        "model.compile(loss='categorical_crossentropy', optimizer='adam', metrics=['accuracy'])\n",
        "model.fit(X, y, epochs=10, verbose=1)\n"
      ],
      "metadata": {
        "colab": {
          "base_uri": "https://localhost:8080/"
        },
        "id": "QsN40Wc4D1b_",
        "outputId": "8cfc3ec8-26de-4ff9-8a12-885c82324997"
      },
      "execution_count": 9,
      "outputs": [
        {
          "output_type": "stream",
          "name": "stdout",
          "text": [
            "Epoch 1/10\n",
            "3084/3084 [==============================] - 219s 70ms/step - loss: 6.2700 - accuracy: 0.0761\n",
            "Epoch 2/10\n",
            "3084/3084 [==============================] - 205s 67ms/step - loss: 5.5317 - accuracy: 0.1256\n",
            "Epoch 3/10\n",
            "3084/3084 [==============================] - 209s 68ms/step - loss: 5.1404 - accuracy: 0.1481\n",
            "Epoch 4/10\n",
            "3084/3084 [==============================] - 208s 67ms/step - loss: 4.8039 - accuracy: 0.1658\n",
            "Epoch 5/10\n",
            "3084/3084 [==============================] - 204s 66ms/step - loss: 4.4897 - accuracy: 0.1852\n",
            "Epoch 6/10\n",
            "3084/3084 [==============================] - 205s 66ms/step - loss: 4.1935 - accuracy: 0.2069\n",
            "Epoch 7/10\n",
            "3084/3084 [==============================] - 205s 67ms/step - loss: 3.9137 - accuracy: 0.2322\n",
            "Epoch 8/10\n",
            "3084/3084 [==============================] - 211s 68ms/step - loss: 3.6509 - accuracy: 0.2627\n",
            "Epoch 9/10\n",
            "3084/3084 [==============================] - 207s 67ms/step - loss: 3.4007 - accuracy: 0.2967\n",
            "Epoch 10/10\n",
            "3084/3084 [==============================] - 208s 67ms/step - loss: 3.1706 - accuracy: 0.3336\n"
          ]
        },
        {
          "output_type": "execute_result",
          "data": {
            "text/plain": [
              "<keras.callbacks.History at 0x7f307bd91150>"
            ]
          },
          "metadata": {},
          "execution_count": 9
        }
      ]
    },
    {
      "cell_type": "code",
      "source": [
        "seed_text = \"i am Vyshnavi\"\n",
        "next_words = 2\n",
        "\n",
        "for _ in range(next_words):\n",
        "    token_list = tokenizer.texts_to_sequences([seed_text])[0]\n",
        "    token_list = pad_sequences([token_list], maxlen=max_sequence_len-1, padding='pre')\n",
        "    predicted = np.argmax(model.predict(token_list), axis=-1)\n",
        "    output_word = \"\"\n",
        "    for word, index in tokenizer.word_index.items():\n",
        "        if index == predicted:\n",
        "            output_word = word\n",
        "            break\n",
        "    seed_text += \" \" + output_word\n",
        "\n",
        "print(seed_text)\n",
        "\n"
      ],
      "metadata": {
        "colab": {
          "base_uri": "https://localhost:8080/"
        },
        "id": "v_CoQr6ID6h_",
        "outputId": "20ccd741-92dc-4567-b950-d1a342495bae"
      },
      "execution_count": 10,
      "outputs": [
        {
          "output_type": "stream",
          "name": "stdout",
          "text": [
            "1/1 [==============================] - 1s 620ms/step\n",
            "1/1 [==============================] - 0s 35ms/step\n",
            "i am rohini sure that\n"
          ]
        }
      ]
    }
  ]
}